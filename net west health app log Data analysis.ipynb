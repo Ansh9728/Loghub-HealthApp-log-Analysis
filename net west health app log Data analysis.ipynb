{
 "cells": [
  {
   "cell_type": "markdown",
   "id": "89fc4e55",
   "metadata": {},
   "source": [
    "# Installing Dependency"
   ]
  },
  {
   "cell_type": "code",
   "execution_count": null,
   "id": "3c42d744",
   "metadata": {},
   "outputs": [],
   "source": [
    "import matplotlib.pyplot as plt\n",
    "import seaborn as sns\n",
    "import numpy as np\n",
    "import pandas as pd\n",
    "import io\n",
    "import requests\n",
    "%matplotlib inline"
   ]
  },
  {
   "cell_type": "markdown",
   "id": "fb98031c",
   "metadata": {},
   "source": [
    "# Data Gathering"
   ]
  },
  {
   "cell_type": "code",
   "execution_count": null,
   "id": "5057b747",
   "metadata": {},
   "outputs": [],
   "source": [
    "# Getting the csv file from the github\n",
    "\n",
    "url=\"https://raw.githubusercontent.com/logpai/loghub/master/HealthApp/HealthApp_2k.log_structured.csv\"\n",
    "\n",
    "download=requests.get(url).content\n",
    "\n",
    "#reading the Downloading Content and change it into the pandas dataframe\n",
    "\n",
    "df = pd.read_csv(io.StringIO(download.decode('utf-8')))\n",
    "\n",
    "df.head()"
   ]
  },
  {
   "cell_type": "markdown",
   "id": "11a3bf30",
   "metadata": {},
   "source": [
    "# EDA"
   ]
  },
  {
   "cell_type": "code",
   "execution_count": null,
   "id": "0cec4724",
   "metadata": {},
   "outputs": [],
   "source": [
    "df.info() # Data type of Time is Object "
   ]
  },
  {
   "cell_type": "code",
   "execution_count": null,
   "id": "08d025a6",
   "metadata": {},
   "outputs": [],
   "source": [
    "df.describe()"
   ]
  },
  {
   "cell_type": "code",
   "execution_count": null,
   "id": "a719035b",
   "metadata": {},
   "outputs": [],
   "source": [
    "print(df.nunique())\n",
    "df.drop(['LineId','Time','Pid'],axis=1).nunique().sort_values().plot(kind='bar')"
   ]
  },
  {
   "cell_type": "code",
   "execution_count": null,
   "id": "a7626161",
   "metadata": {},
   "outputs": [],
   "source": [
    "#df['EventTemplate'].value_counts().plot(kind='bar')\n",
    "print(df['Component'].value_counts())\n",
    "df['Component'].value_counts().plot(kind='bar')\n",
    "plt.ylabel(\"Frequency\")"
   ]
  },
  {
   "cell_type": "code",
   "execution_count": null,
   "id": "39a6b8d1",
   "metadata": {},
   "outputs": [],
   "source": [
    "print(df['EventTemplate'].value_counts())\n",
    "df['EventTemplate'].value_counts().head(15).plot(kind='bar')# representing top 15 event template\n",
    "plt.ylabel(\"Frequency\")"
   ]
  },
  {
   "cell_type": "code",
   "execution_count": null,
   "id": "de40fc37",
   "metadata": {},
   "outputs": [],
   "source": []
  },
  {
   "cell_type": "markdown",
   "id": "861542ee",
   "metadata": {},
   "source": [
    "# Data Preprocessing and Cleaning"
   ]
  },
  {
   "cell_type": "code",
   "execution_count": null,
   "id": "f223dd0f",
   "metadata": {},
   "outputs": [],
   "source": [
    "df.head(5)"
   ]
  },
  {
   "cell_type": "markdown",
   "id": "121f64e1",
   "metadata": {},
   "source": [
    "<b>Proper Format Time column</b>"
   ]
  },
  {
   "cell_type": "code",
   "execution_count": null,
   "id": "59b08366",
   "metadata": {},
   "outputs": [],
   "source": [
    "df['Time'] = pd.to_datetime(df['Time'],format='%Y%m%d-%H:%M:%S:%f')"
   ]
  },
  {
   "cell_type": "code",
   "execution_count": null,
   "id": "56bb4d21",
   "metadata": {},
   "outputs": [],
   "source": [
    "# Separting the Time and Date columns \n",
    "df['Date'] = df['Time'].dt.date\n",
    "df['Hour'] = df['Time'].dt.hour\n",
    "df['Minute'] = df['Time'].dt.minute\n",
    "df['Second'] = df['Time'].dt.second"
   ]
  },
  {
   "cell_type": "code",
   "execution_count": null,
   "id": "74671995",
   "metadata": {},
   "outputs": [],
   "source": [
    "df.columns"
   ]
  },
  {
   "cell_type": "code",
   "execution_count": null,
   "id": "e8606ae4",
   "metadata": {},
   "outputs": [],
   "source": [
    "# Rearrage the columns\n",
    "df = df[['LineId', 'Time','Date', 'Hour', 'Minute', 'Second','Component', 'Pid', 'Content', 'EventTemplate','EventId']]\n",
    "#df.drop('Time',axis=1)"
   ]
  },
  {
   "cell_type": "code",
   "execution_count": null,
   "id": "692961d6",
   "metadata": {},
   "outputs": [],
   "source": [
    "df.head()"
   ]
  },
  {
   "cell_type": "code",
   "execution_count": null,
   "id": "b99d376f",
   "metadata": {},
   "outputs": [],
   "source": [
    "df['Pid'].nunique() # ALl the Value in Pid are Same so not neccesary simple remove this column"
   ]
  },
  {
   "cell_type": "markdown",
   "id": "cbd1ac40",
   "metadata": {},
   "source": [
    "Content Column and Event Template column almost same because Event Template used for Content Columns"
   ]
  },
  {
   "cell_type": "markdown",
   "id": "7d17bd17",
   "metadata": {},
   "source": [
    "<b>Cleaning Event Template Column and Make a New Column which is a Standardized Columns</b>\n"
   ]
  },
  {
   "cell_type": "code",
   "execution_count": null,
   "id": "05123166",
   "metadata": {},
   "outputs": [],
   "source": [
    "\n",
    "df[['EventTemplate', 'Other1']] = df['EventTemplate'].str.split('[:,=,<]', expand=True,n=1)"
   ]
  },
  {
   "cell_type": "code",
   "execution_count": null,
   "id": "359f3a1c",
   "metadata": {
    "scrolled": true
   },
   "outputs": [],
   "source": [
    "df.sample(5)"
   ]
  },
  {
   "cell_type": "markdown",
   "id": "42d05038",
   "metadata": {},
   "source": [
    "The Content Column tells which action or task is performed on the HealthApp"
   ]
  },
  {
   "cell_type": "code",
   "execution_count": null,
   "id": "28c6b42a",
   "metadata": {},
   "outputs": [],
   "source": []
  },
  {
   "cell_type": "code",
   "execution_count": null,
   "id": "af8cae74",
   "metadata": {
    "scrolled": true
   },
   "outputs": [],
   "source": [
    "#Frequency of Event Template use\n",
    "df['EventTemplate'].value_counts().head(25).plot(kind='bar')"
   ]
  },
  {
   "cell_type": "code",
   "execution_count": null,
   "id": "e048377d",
   "metadata": {},
   "outputs": [],
   "source": [
    "# Transforming the Event Column into the separate column standardized Event Tell which event is used \n",
    "\n",
    "def map_events(event_template):\n",
    "    # Mapping dictionary\n",
    "    Template_event_mapping = {\n",
    "    'setTodayTotalDetailSteps': 'Total Detail Steps',\n",
    "    'calculateCaloriesWithCache totalCalories': 'Total Calories',\n",
    "    'calculateAltitudeWithCache totalAltitude': 'Total Altitude',\n",
    "    'onStandStepChanged': 'Total Stand Steps',\n",
    "    'getTodayTotalDetailSteps': 'Total Detail Steps',\n",
    "    'processHandleBroadcastAction action':'Brodcast Action',\n",
    "    'onReceive action':'Receive Action',\n",
    "    'onExtend': 'Extend steps change',# Assuimin on Extend is also a some type of Step Change\n",
    "    'REPORT':'Report',\n",
    "    'flush sensor data':'Sensor Data',\n",
    "    'isScreenOn true':'Screen Status',\n",
    "    'screen status unknown':'Screen Status',\n",
    "    'getBinderPackageName packageName':'Binder Packages',\n",
    "    'upLoadOneMinuteDataToEngine time':'EngineDataUploadTime',\n",
    "    'initDataPrivacy the dataPrivacy switch is open':'Data Privacy',\n",
    "    'initUserPrivacy the userPrivacy switch is open':'User Privacy',\n",
    "    'initUserPrivacy the userPrivacy is true':'User Privacy',\n",
    "    'upLoadOneMinuteDataToEngine time':'EngineDataUploadTime',\n",
    "    'timeStamp back':'Back TimeStamp',\n",
    "    'new date': 'New Date Event',\n",
    "    'InsertCallBack() onSuccess type': 'Insert Callback Success',\n",
    "    'InsertEvent success begin': 'Insert Event Success',\n",
    "    'getTodaySportData mStepsRecordManager': 'Get Today Sport Data',\n",
    "    'theDayChanged': 'Day Changed',\n",
    "    'initEnviroument': 'Initialize Environment',\n",
    "    'getStepCounterStatus': 'Get Step Counter Status',\n",
    "    'reStartStepCounter': 'Restart Step Counter',\n",
    "    'registersensorsuccess': 'Register Sensor Success',\n",
    "    'clear()': 'Clear Operation',\n",
    "    'getTodayBasicStandardSteps': 'Get Today Basic Standard Steps',\n",
    "    'getDiffTotalSteps': 'Get Different Total Steps',\n",
    "    'setDiffTotalSteps':'Get Different Total Steps'\n",
    "    }\n",
    "    \n",
    "    if 'Sync' in event_template:\n",
    "        return 'Sync Status'\n",
    "    if 'DB' in event_template:\n",
    "        return 'DB Status'\n",
    "    if 'Health' in event_template:\n",
    "        return 'Health Data Status'\n",
    "    if 'DataPrivacy' in event_template:\n",
    "        return 'Data Privacy'\n",
    "    \n",
    "    if 'UserPrivacy' in event_template:\n",
    "        return 'User Privacy'\n",
    "    \n",
    "    if 'BasicStep'in event_template:\n",
    "        return 'Basic Step Status'\n",
    "    if 'StandardSteps' in event_template:\n",
    "        return 'Standard Step Status'\n",
    "    \n",
    "    return Template_event_mapping.get(event_template.strip(), event_template)\n",
    "\n",
    "# Apply the mapping function\n",
    "df['StandardizedEvent'] = df['EventTemplate'].apply(map_events)\n"
   ]
  },
  {
   "cell_type": "code",
   "execution_count": null,
   "id": "04fe5a67",
   "metadata": {},
   "outputs": [],
   "source": [
    "print(len(df['StandardizedEvent'].unique()))\n",
    "df['StandardizedEvent'].value_counts()"
   ]
  },
  {
   "cell_type": "code",
   "execution_count": null,
   "id": "a8a4f532",
   "metadata": {},
   "outputs": [],
   "source": []
  },
  {
   "cell_type": "markdown",
   "id": "e521d39c",
   "metadata": {},
   "source": [
    "<b>Working with Content Columns</b>"
   ]
  },
  {
   "cell_type": "code",
   "execution_count": null,
   "id": "79cff11e",
   "metadata": {},
   "outputs": [],
   "source": [
    "df.sample(4)"
   ]
  },
  {
   "cell_type": "code",
   "execution_count": null,
   "id": "fceac637",
   "metadata": {},
   "outputs": [],
   "source": [
    "# Define a function to remove content from Content that is present in EventTemplate\n",
    "def remove_content(row):\n",
    "    for item in row['EventTemplate']:\n",
    "        row['Content']=row['Content'].replace(item,'')\n",
    "    return row['Content']\n",
    "\n",
    "df['Content'] = df.apply(remove_content,axis=1)"
   ]
  },
  {
   "cell_type": "code",
   "execution_count": null,
   "id": "e4c6fed0",
   "metadata": {},
   "outputs": [],
   "source": [
    "df['Content'].value_counts().head(30).plot(kind='bar')"
   ]
  },
  {
   "cell_type": "code",
   "execution_count": null,
   "id": "1d24f8a8",
   "metadata": {},
   "outputs": [],
   "source": [
    "df.sample(7)"
   ]
  },
  {
   "cell_type": "code",
   "execution_count": null,
   "id": "62d689b1",
   "metadata": {},
   "outputs": [],
   "source": [
    "df.isnull().sum()"
   ]
  },
  {
   "cell_type": "code",
   "execution_count": null,
   "id": "dbbfa546",
   "metadata": {},
   "outputs": [],
   "source": []
  },
  {
   "cell_type": "code",
   "execution_count": null,
   "id": "e284286d",
   "metadata": {},
   "outputs": [],
   "source": []
  },
  {
   "cell_type": "code",
   "execution_count": null,
   "id": "2382e1e1",
   "metadata": {},
   "outputs": [],
   "source": [
    "# making the Content column is better\n",
    "df['Content'] = df['Content'].str.replace('[^a-zA-Z0-9\\s]', '', regex=True)\n",
    "\n",
    "df.head()"
   ]
  },
  {
   "cell_type": "markdown",
   "id": "c8e250e7",
   "metadata": {},
   "source": [
    "<b>Cleaning the Component Columns</b>"
   ]
  },
  {
   "cell_type": "code",
   "execution_count": null,
   "id": "42a17c30",
   "metadata": {},
   "outputs": [],
   "source": [
    "df[['Step','Component']] = df['Component'].str.split('_',expand=True,n=1)"
   ]
  },
  {
   "cell_type": "code",
   "execution_count": null,
   "id": "8f5a7007",
   "metadata": {},
   "outputs": [],
   "source": [
    "df.sample(10)"
   ]
  },
  {
   "cell_type": "markdown",
   "id": "aafdef56",
   "metadata": {},
   "source": [
    "Droping the Some Column which is not necesaary to keep \n",
    "\n",
    "Pid Column contain only one unique value which is same among all of them\n",
    "\n",
    "Time Column is remove because We Split this Data into separate column \n",
    "Step Column is no use i have find what componenet are present there\n",
    "Event Template we create a Standard Event Template Column"
   ]
  },
  {
   "cell_type": "code",
   "execution_count": null,
   "id": "0c1de854",
   "metadata": {},
   "outputs": [],
   "source": [
    "\n",
    "df.drop(['Other1','EventId','Time','Pid','Step','EventTemplate'],axis=1,inplace=True)"
   ]
  },
  {
   "cell_type": "code",
   "execution_count": null,
   "id": "05a08d15",
   "metadata": {},
   "outputs": [],
   "source": [
    "df"
   ]
  },
  {
   "cell_type": "markdown",
   "id": "c95313b9",
   "metadata": {},
   "source": [
    "# Data Analysis"
   ]
  },
  {
   "cell_type": "code",
   "execution_count": null,
   "id": "29b359f7",
   "metadata": {},
   "outputs": [],
   "source": [
    "df.sample(5)"
   ]
  },
  {
   "cell_type": "code",
   "execution_count": null,
   "id": "caa8c51a",
   "metadata": {
    "scrolled": false
   },
   "outputs": [],
   "source": [
    "df.info()"
   ]
  },
  {
   "cell_type": "code",
   "execution_count": null,
   "id": "bde84b1e",
   "metadata": {},
   "outputs": [],
   "source": []
  },
  {
   "cell_type": "code",
   "execution_count": null,
   "id": "9667afc3",
   "metadata": {},
   "outputs": [],
   "source": [
    "import plotly.graph_objects as go\n",
    "from plotly.subplots import make_subplots\n",
    "import plotly.offline as pyo\n",
    "import pandas as pd\n",
    "\n",
    "\n",
    "value_counts = df['StandardizedEvent'].value_counts()\n",
    "\n",
    "# Creating subplot\n",
    "fig = make_subplots(rows=1, cols=1)\n",
    "\n",
    "# Add a bar trace\n",
    "fig.add_trace(go.Bar(x=value_counts.index, y=value_counts.values), row=1, col=1)\n",
    "\n",
    "# Set axis labels\n",
    "fig.update_layout(xaxis_title='Standardized Event', yaxis_title='Frequency of Event Template')\n",
    "\n",
    "fig.update_layout(title_text='Distribution of Standardized Events',title_x=0.5, title_y=0.95)\n",
    "\n",
    "# Show the plot in Jupyter Notebook\n",
    "pyo.iplot(fig, validate=False)\n"
   ]
  },
  {
   "cell_type": "markdown",
   "id": "2da72eb5",
   "metadata": {},
   "source": [
    "Among all the Template Total Details steps is mostly use"
   ]
  },
  {
   "cell_type": "code",
   "execution_count": null,
   "id": "9c14d790",
   "metadata": {},
   "outputs": [],
   "source": []
  },
  {
   "cell_type": "code",
   "execution_count": null,
   "id": "c17811a0",
   "metadata": {},
   "outputs": [],
   "source": [
    "Frequency_of_component=df['Component'].value_counts()\n",
    "\n",
    "#Create sub PLot\n",
    "fig =make_subplots(rows=1,cols=1)\n",
    "\n",
    "fig.add_trace(go.Bar(x=Frequency_of_component.index,y=Frequency_of_component.values,),row=1,col=1)\n",
    "\n",
    "fig.update_layout(xaxis_title='Componenet Use',yaxis_title='Frequency')\n",
    "\n",
    "fig.update_layout(title_text='Distribution of Component',title_x=0.5, title_y=0.95)\n",
    "\n"
   ]
  },
  {
   "cell_type": "markdown",
   "id": "dbc7abaa",
   "metadata": {},
   "source": [
    "Distribution of Componet among all the componenet Largest use is LSC"
   ]
  },
  {
   "cell_type": "code",
   "execution_count": null,
   "id": "499a4b86",
   "metadata": {},
   "outputs": [],
   "source": []
  },
  {
   "cell_type": "code",
   "execution_count": null,
   "id": "6ac83113",
   "metadata": {},
   "outputs": [],
   "source": []
  },
  {
   "cell_type": "code",
   "execution_count": null,
   "id": "9ce9a857",
   "metadata": {},
   "outputs": [],
   "source": [
    "import plotly.express as px\n",
    "\n",
    "df['DateTime'] = pd.to_datetime(df[['Date', 'Hour', 'Minute', 'Second']].astype(str).agg(' '.join, axis=1), format='%Y-%m-%d %H %M %S')\n",
    "\n",
    "# Create a scatter plot\n",
    "fig = px.scatter(df, x='DateTime', y='Component', color='StandardizedEvent',\n",
    "                 title='Scatter Plot of Component vs. DateTime with StandardizedEvent',\n",
    "                 labels={'DateTime': 'Date and Time', 'Component': 'Component'},\n",
    "                 category_orders={'StandardizedEvent': df['StandardizedEvent'].unique()},\n",
    "                 width=1200, height=600)\n",
    "\n",
    "# Show the plot\n",
    "fig.show()\n"
   ]
  },
  {
   "cell_type": "code",
   "execution_count": null,
   "id": "3eec4139",
   "metadata": {},
   "outputs": [],
   "source": [
    "fig = px.line(df, x='DateTime', y='Component', color='StandardizedEvent',\n",
    "              title='Line Plot of Component vs. DateTime with StandardizedEvent',\n",
    "              labels={'DateTime': 'Date and Time', 'Component': 'Component'},\n",
    "              category_orders={'StandardizedEvent': df['StandardizedEvent'].unique()},\n",
    "              width=1200, height=600)\n",
    "\n",
    "# Show the plot\n",
    "fig.show()"
   ]
  },
  {
   "cell_type": "markdown",
   "id": "b41c6a15",
   "metadata": {},
   "source": [
    "Above Graph tell which componenet and Which template is uded on the given date and time\n",
    "We take a component Because all the content category falls under any of this \n",
    "\n",
    "i.e above graph tells us which component used at which time stamp and what Template are use"
   ]
  },
  {
   "cell_type": "code",
   "execution_count": null,
   "id": "5808daf2",
   "metadata": {
    "scrolled": true
   },
   "outputs": [],
   "source": [
    "import pandas as pd\n",
    "import plotly.express as px\n",
    "\n",
    "# Extract unique actions from the Content column\n",
    "unique_actions = df['StandardizedEvent'].unique()\n",
    "\n",
    "# Count the occurrences of each action\n",
    "action_counts = df['StandardizedEvent'].value_counts()\n",
    "\n",
    "# Creating bar chart for top N actions\n",
    "top_n = 20 \n",
    "fig = px.bar(action_counts.head(top_n), x=action_counts.head(top_n).index, y=action_counts.head(top_n).values,color=action_counts.head(top_n).index)\n",
    "fig.update_layout(xaxis_title='Action', yaxis_title='Frequency',title_text='Top Actions Performed',title_x=0.5,title_y=0.95)\n",
    "fig.show()\n"
   ]
  },
  {
   "cell_type": "markdown",
   "id": "3e451338",
   "metadata": {},
   "source": [
    "Which Action performed most in all the content"
   ]
  },
  {
   "cell_type": "code",
   "execution_count": null,
   "id": "eb7f3778",
   "metadata": {},
   "outputs": [],
   "source": [
    "df.nunique()"
   ]
  },
  {
   "cell_type": "markdown",
   "id": "2c93edaa",
   "metadata": {},
   "source": [
    "We can make a hieracy of component standardized event and Content"
   ]
  },
  {
   "cell_type": "code",
   "execution_count": null,
   "id": "f0a2d007",
   "metadata": {},
   "outputs": [],
   "source": [
    "fig = px.sunburst(df, path=['Component', 'StandardizedEvent','Content'])\n",
    "fig.update_layout(title_text='Sunburst Chart of Component, StandardizedEvent, and Content Hierarch',title_x=0.5,title_y=0.95)\n",
    "fig.show()\n"
   ]
  },
  {
   "cell_type": "markdown",
   "id": "d4335356",
   "metadata": {},
   "source": [
    "Using a sunburst chart to show hierarchical data, such as actions nested within components, standardized event which task  is performed tell by the content columns"
   ]
  },
  {
   "cell_type": "code",
   "execution_count": null,
   "id": "15d59386",
   "metadata": {},
   "outputs": [],
   "source": [
    "df.head()"
   ]
  },
  {
   "cell_type": "code",
   "execution_count": null,
   "id": "978d4acb",
   "metadata": {},
   "outputs": [],
   "source": [
    "df.nunique()"
   ]
  },
  {
   "cell_type": "code",
   "execution_count": null,
   "id": "028b3d12",
   "metadata": {},
   "outputs": [],
   "source": [
    "from wordcloud import WordCloud\n",
    "import matplotlib.pyplot as plt\n",
    "\n",
    "text_data = ' '.join(df['Content'])\n",
    "wordcloud = WordCloud(width=800, height=400, random_state=21, max_font_size=110).generate(text_data)\n",
    "\n",
    "plt.figure(figsize=(10, 7))\n",
    "plt.imshow(wordcloud, interpolation=\"bilinear\")\n",
    "plt.axis('off')\n",
    "plt.show()\n"
   ]
  },
  {
   "cell_type": "markdown",
   "id": "22def213",
   "metadata": {},
   "source": [
    "Above Word Cloud tell which content used mostly th Data presnt in the form of strings"
   ]
  },
  {
   "cell_type": "code",
   "execution_count": null,
   "id": "b2632b54",
   "metadata": {},
   "outputs": [],
   "source": [
    " #Create a line plot\n",
    "fig = go.Figure([go.Scatter(x=df['DateTime'], y=df['Component'], mode='lines',\n",
    "                            line=dict(color='Red', width=3),\n",
    "                            hoverinfo='x+y+text', text=df['StandardizedEvent'])])\n",
    "\n",
    "fig.update_xaxes(minor=dict(ticks=\"inside\", showgrid=True))\n",
    "\n",
    "# Update layout for better visualization\n",
    "fig.update_layout(title='Line Plot of Component Over Time',\n",
    "                  xaxis_title='Date and Time',\n",
    "                  yaxis_title='Component',\n",
    "                  showlegend=False,\n",
    "                  title_x=0.5,\n",
    "                  title_y=0.95\n",
    "                 ) \n",
    "\n",
    "# Show the plot\n",
    "fig.show()"
   ]
  },
  {
   "cell_type": "code",
   "execution_count": null,
   "id": "fb2da75a",
   "metadata": {},
   "outputs": [],
   "source": [
    " #Create a line plot\n",
    "fig = go.Figure([go.Scatter(x=df['DateTime'], y=df['StandardizedEvent'], mode='lines',\n",
    "                            line=dict(color='Green', width=4),\n",
    "                            hoverinfo='x+y+text', text=df['StandardizedEvent'])])\n",
    "\n",
    "\n",
    "fig.update_xaxes(minor=dict(ticks=\"inside\", showgrid=True))\n",
    "\n",
    "# layout for better visualization\n",
    "fig.update_layout(title='Line Plot of StandardizedEvent Over Time',\n",
    "                  xaxis_title='Date and Time',\n",
    "                  yaxis_title='StandardizedEvent',\n",
    "                  showlegend=False,\n",
    "                  title_x=0.5,\n",
    "                  title_y=0.95\n",
    "                 )\n",
    "# Show the plot\n",
    "fig.show()"
   ]
  },
  {
   "cell_type": "code",
   "execution_count": null,
   "id": "26d10629",
   "metadata": {},
   "outputs": [],
   "source": []
  },
  {
   "cell_type": "markdown",
   "id": "c06a2c21",
   "metadata": {},
   "source": [
    "## Conclusion\n",
    "\n",
    "In conclusion Step, We have  analyse so many information from the log data and Find the insights,patterns and trends of loghub healthApp Log Data. Some of the Insight are:\n",
    "\n",
    "1. **Peak Activity Times:**\n",
    "   - The most activty occur at the Midnight of the 24 Dec 2017,This is the time most of the taks is performed by the user.\n",
    "\n",
    "2. **Most Performed Tasks:**\n",
    "   - Most Frequetly Task is Perfomed is Total Details Steps which has used the component is SPUtils and most of the HealthApp Component use is LSC this is most perfomed task.\n",
    "\n",
    "3. **Template Utilization:**\n",
    "   - MOst of the Time Template use is Total Details Steps on the HealthApp \n",
    "\n",
    "\n",
    "Above are some points of  analysis but finding a better insight from any of the Data we required Domain Specific Knowledge to get better and Better Insight"
   ]
  },
  {
   "cell_type": "code",
   "execution_count": null,
   "id": "fa2c7998",
   "metadata": {},
   "outputs": [],
   "source": []
  }
 ],
 "metadata": {
  "kernelspec": {
   "display_name": "ML_DL",
   "language": "python",
   "name": "ml_dl"
  },
  "language_info": {
   "codemirror_mode": {
    "name": "ipython",
    "version": 3
   },
   "file_extension": ".py",
   "mimetype": "text/x-python",
   "name": "python",
   "nbconvert_exporter": "python",
   "pygments_lexer": "ipython3",
   "version": "3.11.5"
  }
 },
 "nbformat": 4,
 "nbformat_minor": 5
}
